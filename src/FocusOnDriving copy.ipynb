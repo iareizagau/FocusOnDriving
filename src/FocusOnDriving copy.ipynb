{
  "nbformat": 4,
  "nbformat_minor": 0,
  "metadata": {
    "accelerator": "GPU",
    "colab": {
      "name": "FocusOnDriving_definitivo.ipynb",
      "provenance": [],
      "collapsed_sections": []
    },
    "kernelspec": {
      "display_name": "conda_tensorflow2_p36",
      "language": "python",
      "name": "conda_tensorflow2_p36"
    },
    "language_info": {
      "codemirror_mode": {
        "name": "ipython",
        "version": 3
      },
      "file_extension": ".py",
      "mimetype": "text/x-python",
      "name": "python",
      "nbconvert_exporter": "python",
      "pygments_lexer": "ipython3",
      "version": "3.6.13"
    }
  },
  "cells": [
    {
      "cell_type": "markdown",
      "metadata": {
        "id": "GeeFUWsNSL3O"
      },
      "source": [
        "### Importación Bibliotecas"
      ]
    },
    {
      "cell_type": "code",
      "execution_count": null,
      "metadata": {},
      "outputs": [],
      "source": [
        "!pip install imutils --quiet\n",
        "!pip install livelossplot --quiet"
      ]
    },
    {
      "cell_type": "code",
      "metadata": {
        "id": "KkV66jQ_SL3S",
        "outputId": "ff958d7d-33aa-4d55-fa3e-a0f1990715e8"
      },
      "source": [
        "import keras\n",
        "import tensorflow as tf\n",
        "import numpy as np\n",
        "import sys\n",
        "print(f'{sys.version}')\n",
        "print(f'keras {keras.__version__}')\n",
        "print(f'tensorflow {tf.__version__}')\n",
        "print(f'numpy {np.__version__}')\n",
        "\n",
        "import pandas as pd\n",
        "import os\n",
        "from imutils import paths\n",
        "import cv2\n",
        "import matplotlib.pyplot as plt\n",
        "from PIL import Image\n",
        "\n",
        "from keras.models import Model\n",
        "from keras.optimizers import Adam\n",
        "from keras.applications.vgg16 import VGG16, preprocess_input\n",
        "from keras.applications.vgg19 import VGG19, preprocess_input\n",
        "from keras.preprocessing.image import ImageDataGenerator\n",
        "from keras.callbacks import ModelCheckpoint, EarlyStopping\n",
        "from keras.layers import Dense, Dropout, Flatten\n",
        "from pathlib import Path\n",
        "from livelossplot.inputs.keras import PlotLossesCallback\n",
        "from sklearn.metrics import accuracy_score\n",
        "\n",
        "from functions import create_model, get_size, train_valid_generator, plot_heatmap, add_value_labels"
      ],
      "execution_count": null,
      "outputs": [
        {
          "output_type": "stream",
          "text": [
            "Using TensorFlow backend.\n"
          ],
          "name": "stderr"
        },
        {
          "output_type": "stream",
          "text": [
            "3.6.13 | packaged by conda-forge | (default, Feb 19 2021, 05:36:01) \n",
            "[GCC 9.3.0]\n",
            "keras 2.3.0\n",
            "tensorflow 2.1.3\n",
            "numpy 1.18.5\n"
          ],
          "name": "stdout"
        }
      ]
    },
    {
      "cell_type": "code",
      "metadata": {
        "colab": {
          "base_uri": "https://localhost:8080/"
        },
        "id": "9mapi6TeSId3",
        "outputId": "01a112e0-eeec-49c5-b57f-6ed877ea7613"
      },
      "source": [
        "from tensorflow.python.client import device_lib\n",
        "print(\"Num GPUs Available: \", len(tf.config.list_physical_devices('GPU')))\n",
        "tf.debugging.set_log_device_placement(True)\n",
        "print(tf.test.gpu_device_name())"
      ],
      "execution_count": null,
      "outputs": [
        {
          "output_type": "stream",
          "text": [
            "Num GPUs Available:  1\n",
            "/device:GPU:0\n"
          ],
          "name": "stdout"
        }
      ]
    },
    {
      "cell_type": "markdown",
      "metadata": {
        "id": "GAfO6nvsSL3U"
      },
      "source": [
        "### Importación Imágenes para Entrenamiento"
      ]
    },
    {
      "cell_type": "code",
      "metadata": {
        "id": "23cqXxlVSL3U"
      },
      "source": [
        "# Copiar las imágenes destinadas a los entrenamientosa a la instancia de Jupyter desde s3 de AWS. Hace falta hacerlo solamente la primera vez\n",
        "#. !aws s3 sync s3://focusondrivinghenry/img './img' --quiet"
      ],
      "execution_count": null,
      "outputs": []
    },
    {
      "cell_type": "code",
      "metadata": {
        "id": "pEArSgDjSL3V",
        "outputId": "dd0f3001-5caf-48c5-b38b-bd99cabfbcdf"
      },
      "source": [
        "import os\n",
        "print(get_size()/1000, 'bytes')"
      ],
      "execution_count": null,
      "outputs": [
        {
          "output_type": "stream",
          "text": [
            "3688487.639 bytes\n"
          ],
          "name": "stdout"
        }
      ]
    },
    {
      "cell_type": "markdown",
      "metadata": {
        "id": "WerWku2KSL3V"
      },
      "source": [
        "### Exploratory Data Analysis (Train Data)"
      ]
    },
    {
      "cell_type": "code",
      "metadata": {
        "id": "phfFlsVqvfwB"
      },
      "source": [
        "train_data = f'./img/train'\n",
        "test_data = f'./img/test'\n",
        "class_subset = sorted(os.listdir(train_data))\n",
        "ac_labels = {\"c0\": \"safe driving\",\n",
        "             \"c1\": \"texting - right\",\n",
        "             \"c2\": \"talking on the phone - right\",\n",
        "             \"c3\": \"texting - left\",\n",
        "             \"c4\": \"talking on the phone - left\",\n",
        "             \"c5\": \"operating the radio\",\n",
        "             \"c6\": \"drinking\",\n",
        "             \"c7\": \"reaching behind\",\n",
        "             \"c8\": \"hair and makeup\",\n",
        "             \"c9\": \"talking to passenger\"}"
      ],
      "execution_count": null,
      "outputs": []
    },
    {
      "cell_type": "code",
      "metadata": {
        "colab": {
          "base_uri": "https://localhost:8080/"
        },
        "id": "AhqJHWIrEvAC",
        "outputId": "2e1acc8c-bc84-44b1-e7b9-3d60d9d017bf"
      },
      "source": [
        "print(f'train_data {train_data}')\n",
        "print(f'test_data {test_data}')\n",
        "print(f'class_subset {class_subset}')"
      ],
      "execution_count": null,
      "outputs": [
        {
          "output_type": "stream",
          "text": [
            "train_data ./img/train\n",
            "test_data ./img/test\n",
            "class_subset ['c0', 'c1', 'c2', 'c3', 'c4', 'c5', 'c6', 'c7', 'c8', 'c9']\n"
          ],
          "name": "stdout"
        }
      ]
    },
    {
      "cell_type": "markdown",
      "metadata": {
        "id": "nLUkC6HcSL3X"
      },
      "source": [
        "### Comprobación de que las imágenes destinadas a los entrenamientos tienen las mismas dimensiones"
      ]
    },
    {
      "cell_type": "code",
      "metadata": {
        "colab": {
          "base_uri": "https://localhost:8080/"
        },
        "id": "dCdB_O34wOCA",
        "outputId": "6ae6d5ca-c156-42fd-8123-1af7d6e49401"
      },
      "source": [
        "df = pd.DataFrame()\n",
        "df_all_elements = pd.DataFrame()\n",
        "directories = os.listdir(train_data)\n",
        "for directory in directories:\n",
        "    _dir = f'{train_data}/{directory}'\n",
        "    print(f'directory {_dir}')\n",
        "    len_files = len(os.listdir(_dir))\n",
        "    img_list = paths.list_images(_dir)\n",
        "    shape = []\n",
        "    for i, img_path in enumerate(img_list):\n",
        "        shape.append(cv2.imread(img_path).shape)\n",
        "        if i > 5:\n",
        "            break\n",
        "\n",
        "    _directory = [directory] * len(shape)\n",
        "    _label = [ac_labels[directory]] * len(shape)\n",
        "    df_all_elements = df_all_elements.append(pd.DataFrame({'class': _directory,\n",
        "                                                          'shape': shape,\n",
        "                                                          'label': _label}),\n",
        "                                            ignore_index=True)\n",
        "\n",
        "    result = False\n",
        "    listOfStrings = df_all_elements['shape']\n",
        "    if len(listOfStrings) > 0:\n",
        "        result = all(elem == listOfStrings[0] for elem in listOfStrings)\n",
        "    if result:\n",
        "        print(\"All Elements in List are Equal\")\n",
        "    else:\n",
        "        print(\"All Elements in List are Not Equal\")\n",
        "\n",
        "    df = df.append(pd.DataFrame({'class': [directory],\n",
        "                                'len': [len_files],\n",
        "                                'shape': [listOfStrings[0]],\n",
        "                                'label': [ac_labels[directory]]}),\n",
        "                  ignore_index=True)"
      ],
      "execution_count": null,
      "outputs": [
        {
          "output_type": "stream",
          "text": [
            "directory ./img/train/c6\n",
            "All Elements in List are Equal\n",
            "directory ./img/train/c9\n",
            "All Elements in List are Equal\n",
            "directory ./img/train/c7\n",
            "All Elements in List are Equal\n",
            "directory ./img/train/c3\n",
            "All Elements in List are Equal\n",
            "directory ./img/train/c8\n",
            "All Elements in List are Equal\n",
            "directory ./img/train/c2\n",
            "All Elements in List are Equal\n",
            "directory ./img/train/c4\n",
            "All Elements in List are Equal\n",
            "directory ./img/train/c0\n",
            "All Elements in List are Equal\n",
            "directory ./img/train/c5\n",
            "All Elements in List are Equal\n",
            "directory ./img/train/c1\n",
            "All Elements in List are Equal\n"
          ],
          "name": "stdout"
        }
      ]
    },
    {
      "cell_type": "code",
      "metadata": {
        "id": "httgqnrzSL3Y",
        "outputId": "71bea011-d640-4cc5-bae4-b85d57fa8547"
      },
      "source": [
        "df"
      ],
      "execution_count": null,
      "outputs": [
        {
          "output_type": "execute_result",
          "data": {
            "text/html": [
              "<div>\n",
              "<style scoped>\n",
              "    .dataframe tbody tr th:only-of-type {\n",
              "        vertical-align: middle;\n",
              "    }\n",
              "\n",
              "    .dataframe tbody tr th {\n",
              "        vertical-align: top;\n",
              "    }\n",
              "\n",
              "    .dataframe thead th {\n",
              "        text-align: right;\n",
              "    }\n",
              "</style>\n",
              "<table border=\"1\" class=\"dataframe\">\n",
              "  <thead>\n",
              "    <tr style=\"text-align: right;\">\n",
              "      <th></th>\n",
              "      <th>class</th>\n",
              "      <th>len</th>\n",
              "      <th>shape</th>\n",
              "      <th>label</th>\n",
              "    </tr>\n",
              "  </thead>\n",
              "  <tbody>\n",
              "    <tr>\n",
              "      <th>0</th>\n",
              "      <td>c6</td>\n",
              "      <td>2325</td>\n",
              "      <td>(480, 640, 3)</td>\n",
              "      <td>drinking</td>\n",
              "    </tr>\n",
              "    <tr>\n",
              "      <th>1</th>\n",
              "      <td>c9</td>\n",
              "      <td>2129</td>\n",
              "      <td>(480, 640, 3)</td>\n",
              "      <td>talking to passenger</td>\n",
              "    </tr>\n",
              "    <tr>\n",
              "      <th>2</th>\n",
              "      <td>c7</td>\n",
              "      <td>2002</td>\n",
              "      <td>(480, 640, 3)</td>\n",
              "      <td>reaching behind</td>\n",
              "    </tr>\n",
              "    <tr>\n",
              "      <th>3</th>\n",
              "      <td>c3</td>\n",
              "      <td>2346</td>\n",
              "      <td>(480, 640, 3)</td>\n",
              "      <td>texting - left</td>\n",
              "    </tr>\n",
              "    <tr>\n",
              "      <th>4</th>\n",
              "      <td>c8</td>\n",
              "      <td>1911</td>\n",
              "      <td>(480, 640, 3)</td>\n",
              "      <td>hair and makeup</td>\n",
              "    </tr>\n",
              "    <tr>\n",
              "      <th>5</th>\n",
              "      <td>c2</td>\n",
              "      <td>2317</td>\n",
              "      <td>(480, 640, 3)</td>\n",
              "      <td>talking on the phone - right</td>\n",
              "    </tr>\n",
              "    <tr>\n",
              "      <th>6</th>\n",
              "      <td>c4</td>\n",
              "      <td>2326</td>\n",
              "      <td>(480, 640, 3)</td>\n",
              "      <td>talking on the phone - left</td>\n",
              "    </tr>\n",
              "    <tr>\n",
              "      <th>7</th>\n",
              "      <td>c0</td>\n",
              "      <td>2489</td>\n",
              "      <td>(480, 640, 3)</td>\n",
              "      <td>safe driving</td>\n",
              "    </tr>\n",
              "    <tr>\n",
              "      <th>8</th>\n",
              "      <td>c5</td>\n",
              "      <td>2312</td>\n",
              "      <td>(480, 640, 3)</td>\n",
              "      <td>operating the radio</td>\n",
              "    </tr>\n",
              "    <tr>\n",
              "      <th>9</th>\n",
              "      <td>c1</td>\n",
              "      <td>2267</td>\n",
              "      <td>(480, 640, 3)</td>\n",
              "      <td>texting - right</td>\n",
              "    </tr>\n",
              "  </tbody>\n",
              "</table>\n",
              "</div>"
            ],
            "text/plain": [
              "  class   len          shape                         label\n",
              "0    c6  2325  (480, 640, 3)                      drinking\n",
              "1    c9  2129  (480, 640, 3)          talking to passenger\n",
              "2    c7  2002  (480, 640, 3)               reaching behind\n",
              "3    c3  2346  (480, 640, 3)                texting - left\n",
              "4    c8  1911  (480, 640, 3)               hair and makeup\n",
              "5    c2  2317  (480, 640, 3)  talking on the phone - right\n",
              "6    c4  2326  (480, 640, 3)   talking on the phone - left\n",
              "7    c0  2489  (480, 640, 3)                  safe driving\n",
              "8    c5  2312  (480, 640, 3)           operating the radio\n",
              "9    c1  2267  (480, 640, 3)               texting - right"
            ]
          },
          "metadata": {
            "tags": []
          },
          "execution_count": 9
        }
      ]
    },
    {
      "cell_type": "markdown",
      "metadata": {
        "id": "bPSe0JB7SL3Y"
      },
      "source": [
        "### Distribución del número de imágenes por categorías"
      ]
    },
    {
      "cell_type": "code",
      "metadata": {
        "id": "pcY4hZGRSL3Y",
        "outputId": "5c849590-879e-441d-fb23-710898f728ab"
      },
      "source": [
        "frequencies = list(df['len'].values)\n",
        "\n",
        "freq_series = pd.Series(frequencies)\n",
        "\n",
        "x_labels = list(df['class'].values)\n",
        "\n",
        "plt.figure(figsize=(12, 8))\n",
        "ax = freq_series.plot(kind='bar')\n",
        "ax.set_title('Distribución Imágenes por Categoría', size=20)\n",
        "ax.set_xlabel('Categoría', size=15)\n",
        "ax.set_ylabel('Nº Imágenes', size=15)\n",
        "ax.set_xticklabels(x_labels, size=15)\n",
        "\n",
        "\n",
        "\n",
        "# Call the function above. All the magic happens there.\n",
        "add_value_labels(ax)\n",
        "\n",
        "plt.savefig(\"image.png\")"
      ],
      "execution_count": null,
      "outputs": [
        {
          "output_type": "display_data",
          "data": {
            "image/png": "[encoded data removed]",
            "text/plain": [
              "<Figure size 864x576 with 1 Axes>"
            ]
          },
          "metadata": {
            "tags": [],
            "needs_background": "light"
          }
        }
      ]
    },
    {
      "cell_type": "markdown",
      "metadata": {
        "id": "1B3HM_cCSL3Z"
      },
      "source": [
        "### Preparación Conjunto de Imágenes para Entrenamiento y Test"
      ]
    },
    {
      "cell_type": "code",
      "execution_count": null,
      "metadata": {},
      "outputs": [],
      "source": [
        "BATCH_SIZE = 32\n",
        "test_generator = ImageDataGenerator(preprocessing_function=preprocess_input) \n",
        "testgen = test_generator.flow_from_directory(test_data,\n",
        "                                             target_size=(224, 224),\n",
        "                                             class_mode=None,\n",
        "                                             classes=class_subset,\n",
        "                                             batch_size=1,\n",
        "                                             shuffle=False,\n",
        "                                             seed=42)"
      ]
    },
    {
      "cell_type": "markdown",
      "metadata": {
        "id": "6kvvuMseSL3b"
      },
      "source": [
        "### Pruebas \"Data Augmentation\""
      ]
    },
    {
      "cell_type": "code",
      "metadata": {
        "id": "bkGPPUtGSL3b"
      },
      "source": [
        "from keras.preprocessing.image import array_to_img, img_to_array, load_img\n",
        "img = load_img('./img/train/c0/img_100026.jpg')\n",
        "x = img_to_array(img)\n",
        "x = x.reshape((1, ) + x.shape)\n",
        "i = 0\n",
        "for batch in train_generator.flow(x, batch_size=1,\n",
        "                                 save_to_dir='./img/zoom',\n",
        "                                 save_prefix='zoom4',\n",
        "                                 save_format='jpeg'):\n",
        "    i += 1\n",
        "    if i > 10:\n",
        "        break"
      ],
      "execution_count": null,
      "outputs": []
    },
    {
      "cell_type": "markdown",
      "metadata": {
        "id": "I87Y-U_lSL3c"
      },
      "source": [
        "### Definición del Modelo"
      ]
    },
    {
      "cell_type": "code",
      "metadata": {
        "colab": {
          "base_uri": "https://localhost:8080/"
        },
        "id": "V3Q9mXUyFGxF",
        "outputId": "c6e36bf5-347e-456a-c594-3d52d2f2e4c2"
      },
      "source": [
        "n_model = input('generate model (1, 2, 3, 4, 5): ')\n",
        "input_shape = (224, 224, 3)\n",
        "n_classes=len(class_subset)\n",
        "optim = Adam(lr=0.0001)\n",
        "fine_tune=2\n",
        "n_epochs = 25"
      ],
      "execution_count": null,
      "outputs": [
        {
          "output_type": "stream",
          "text": [
            "Executing op VarHandleOp in device /job:localhost/replica:0/task:0/device:GPU:0\n",
            "Executing op VarIsInitializedOp in device /job:localhost/replica:0/task:0/device:GPU:0\n",
            "Executing op LogicalNot in device /job:localhost/replica:0/task:0/device:GPU:0\n",
            "Executing op Assert in device /job:localhost/replica:0/task:0/device:GPU:0\n",
            "Executing op AssignVariableOp in device /job:localhost/replica:0/task:0/device:GPU:0\n",
            "Executing op VarHandleOp in device /job:localhost/replica:0/task:0/device:GPU:0\n",
            "Executing op AssignVariableOp in device /job:localhost/replica:0/task:0/device:GPU:0\n"
          ],
          "name": "stdout"
        }
      ]
    },
    {
      "cell_type": "code",
      "metadata": {
        "id": "QqMGmqDpSL3d",
        "outputId": "bfd04b42-dd45-48cd-8d5d-6b625d51fd87"
      },
      "source": [
        "early_stop = EarlyStopping(monitor='val_loss',\n",
        "                        patience=10,\n",
        "                        restore_best_weights=True,\n",
        "                        mode='min')\n",
        "\n",
        "for n_model in [1, 2, 3, 4, 5]:\n",
        "    traingen, validgen = train_valid_generator(n_model, train_data)\n",
        "    n_steps = traingen.samples // BATCH_SIZE\n",
        "    n_val_steps = validgen.samples // BATCH_SIZE\n",
        "\n",
        "    # ModelCheckpoint callback - save best weights\n",
        "    tl_checkpoint_1 = ModelCheckpoint(filepath=f'./model/model{n_model}.hdf5',\n",
        "                                    save_best_only=True,\n",
        "                                    verbose=1)\n",
        "\n",
        "    \n",
        "    # Ajuste del Modelo con fine-tuning\n",
        "    model = create_model(input_shape, n_classes, optim, fine_tune, n_model)\n",
        "    model = model.fit(traingen,\n",
        "                      epochs=n_epochs,\n",
        "                      validation_data=validgen,\n",
        "                      steps_per_epoch=n_steps, \n",
        "                      validation_steps=n_val_steps,\n",
        "                      # callbacks=[tl_checkpoint_1, early_stop, PlotLossesCallback()],\n",
        "                      callbacks=[tl_checkpoint_1, PlotLossesCallback()],\n",
        "                      verbose=1)"
      ],
      "execution_count": null,
      "outputs": [
        {
          "output_type": "stream",
          "text": [
            "Executing op RandomUniform in device /job:localhost/replica:0/task:0/device:GPU:0\n",
            "Executing op Sub in device /job:localhost/replica:0/task:0/device:GPU:0\n",
            "Executing op Mul in device /job:localhost/replica:0/task:0/device:GPU:0\n",
            "Executing op Add in device /job:localhost/replica:0/task:0/device:GPU:0\n",
            "Executing op VarHandleOp in device /job:localhost/replica:0/task:0/device:GPU:0\n",
            "Executing op Fill in device /job:localhost/replica:0/task:0/device:GPU:0\n",
            "Executing op VarHandleOp in device /job:localhost/replica:0/task:0/device:GPU:0\n",
            "Executing op RandomUniform in device /job:localhost/replica:0/task:0/device:GPU:0\n",
            "Executing op VarHandleOp in device /job:localhost/replica:0/task:0/device:GPU:0\n",
            "Executing op RandomUniform in device /job:localhost/replica:0/task:0/device:GPU:0\n",
            "Executing op VarHandleOp in device /job:localhost/replica:0/task:0/device:GPU:0\n",
            "Executing op VarHandleOp in device /job:localhost/replica:0/task:0/device:GPU:0\n",
            "Executing op RandomUniform in device /job:localhost/replica:0/task:0/device:GPU:0\n",
            "Executing op VarHandleOp in device /job:localhost/replica:0/task:0/device:GPU:0\n",
            "Executing op RandomUniform in device /job:localhost/replica:0/task:0/device:GPU:0\n",
            "Executing op VarHandleOp in device /job:localhost/replica:0/task:0/device:GPU:0\n",
            "Executing op VarHandleOp in device /job:localhost/replica:0/task:0/device:GPU:0\n",
            "Executing op RandomUniform in device /job:localhost/replica:0/task:0/device:GPU:0\n",
            "Executing op VarHandleOp in device /job:localhost/replica:0/task:0/device:GPU:0\n",
            "Executing op RandomUniform in device /job:localhost/replica:0/task:0/device:GPU:0\n",
            "Executing op RandomUniform in device /job:localhost/replica:0/task:0/device:GPU:0\n",
            "Executing op VarHandleOp in device /job:localhost/replica:0/task:0/device:GPU:0\n",
            "Executing op VarHandleOp in device /job:localhost/replica:0/task:0/device:GPU:0\n",
            "Executing op RandomUniform in device /job:localhost/replica:0/task:0/device:GPU:0\n",
            "Executing op VarHandleOp in device /job:localhost/replica:0/task:0/device:GPU:0\n",
            "Executing op RandomUniform in device /job:localhost/replica:0/task:0/device:GPU:0\n",
            "Executing op RandomUniform in device /job:localhost/replica:0/task:0/device:GPU:0\n",
            "Executing op RandomUniform in device /job:localhost/replica:0/task:0/device:GPU:0\n",
            "Executing op RandomUniform in device /job:localhost/replica:0/task:0/device:GPU:0\n",
            "Executing op RandomUniform in device /job:localhost/replica:0/task:0/device:GPU:0\n",
            "Executing op VarHandleOp in device /job:localhost/replica:0/task:0/device:GPU:0\n",
            "Executing op VarHandleOp in device /job:localhost/replica:0/task:0/device:GPU:0\n",
            "Executing op RandomUniform in device /job:localhost/replica:0/task:0/device:GPU:0\n",
            "Executing op VarHandleOp in device /job:localhost/replica:0/task:0/device:GPU:0\n",
            "Executing op VarHandleOp in device /job:localhost/replica:0/task:0/device:GPU:0\n",
            "Executing op RandomUniform in device /job:localhost/replica:0/task:0/device:GPU:0\n",
            "Executing op VarHandleOp in device /job:localhost/replica:0/task:0/device:GPU:0\n",
            "Executing op RandomUniform in device /job:localhost/replica:0/task:0/device:GPU:0\n",
            "Executing op VarHandleOp in device /job:localhost/replica:0/task:0/device:GPU:0\n",
            "Executing op RandomUniform in device /job:localhost/replica:0/task:0/device:GPU:0\n",
            "Executing op VarHandleOp in device /job:localhost/replica:0/task:0/device:GPU:0\n",
            "Executing op VarHandleOp in device /job:localhost/replica:0/task:0/device:GPU:0\n"
          ],
          "name": "stdout"
        }
      ]
    },
    {
      "cell_type": "markdown",
      "metadata": {
        "id": "zWhn7e5rSL3e"
      },
      "source": [
        "### Comprobación del Accuracy del Modelo"
      ]
    },
    {
      "cell_type": "code",
      "metadata": {
        "id": "4yTJa8NrSL3e"
      },
      "source": [
        "true_classes = testgen.classes\n",
        "class_indices = testgen.class_indices\n",
        "class_indices = dict((v,k) for k,v in class_indices.items())\n",
        "fine_tune=2\n",
        "\n",
        "model = create_model(input_shape, n_classes, optim, fine_tune, n_model)\n",
        "model.load_weights(f'./model/model{n_model}.hdf5')\n",
        "model_pred = model.predict(testgen)\n",
        "model_pred_classes = np.argmax(model_pred, axis=1)\n",
        "model_acc_ft = accuracy_score(true_classes, model_pred_classes)\n",
        "print(\"VGG16 Model {} Accuracy with Fine-Tuning: {:.2f}%\".format(i, model_acc_ft * 100))"
      ],
      "execution_count": null,
      "outputs": []
    },
    {
      "source": [
        "# Matriz de confusión del modelo generado"
      ],
      "cell_type": "markdown",
      "metadata": {}
    },
    {
      "cell_type": "code",
      "execution_count": null,
      "metadata": {},
      "outputs": [],
      "source": [
        "import seaborn as sns\n",
        "from sklearn.metrics import confusion_matrix\n",
        "\n",
        "# Get the names of the ten classes\n",
        "class_names = testgen.class_indices.keys()\n",
        "\n",
        "fig, axes = plt.subplots(1, 5, figsize=(20, 10))\n",
        "\n",
        "plot_heatmap(true_classes, model_pred_classes, class_names, axes[i], title=f\"model{n_model}\")    \n",
        "\n",
        "fig.suptitle(\"Confusion Matrix Model Comparison\", fontsize=24)\n",
        "fig.tight_layout()\n",
        "fig.subplots_adjust(top=1.25)\n",
        "plt.show()"
      ]
    }
  ]
}